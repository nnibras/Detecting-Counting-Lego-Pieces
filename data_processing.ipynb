{
 "cells": [
  {
   "cell_type": "markdown",
   "metadata": {},
   "source": [
    "**Loading Data (3000 images)**"
   ]
  },
  {
   "cell_type": "code",
   "execution_count": 1,
   "metadata": {
    "_cell_guid": "b1076dfc-b9ad-4769-8c92-a6c4dae69d19",
    "_uuid": "8f2839f25d086af736a60e9eeb907d3b93b6e0e5",
    "execution": {
     "iopub.execute_input": "2024-10-29T01:08:07.648191Z",
     "iopub.status.busy": "2024-10-29T01:08:07.647381Z",
     "iopub.status.idle": "2024-10-29T01:59:53.357978Z",
     "shell.execute_reply": "2024-10-29T01:59:53.356187Z",
     "shell.execute_reply.started": "2024-10-29T01:08:07.648129Z"
    }
   },
   "outputs": [
    {
     "name": "stdout",
     "output_type": "stream",
     "text": [
      "Total images available: 167800\n",
      "Selected 3000 images for the dataset.\n"
     ]
    }
   ],
   "source": [
    "import os\n",
    "import random\n",
    "import shutil\n",
    "\n",
    "# Define paths\n",
    "dataset_dir = ''\n",
    "annotation_dir = ''\n",
    "copied_data_dir = ''\n",
    "selected_data_dir = ''\n",
    "\n",
    "# Create directories if they don't exist\n",
    "os.makedirs(copied_data_dir, exist_ok=True)\n",
    "os.makedirs(selected_data_dir, exist_ok=True)\n",
    "\n",
    "# Get list of images\n",
    "images = [f for f in os.listdir(dataset_dir) if f.endswith(\".jpg\")]\n",
    "\n",
    "print(\"Total images available:\", len(images))\n",
    "\n",
    "# Copy all images and their corresponding XML annotations to the copied_data_dir\n",
    "for img in images:\n",
    "    # Copy the image file\n",
    "    src_img = os.path.join(dataset_dir, img)\n",
    "    dst_img = os.path.join(copied_data_dir, img)\n",
    "    shutil.copy(src_img, dst_img)\n",
    "    \n",
    "    # Copy the corresponding XML annotation file\n",
    "    annotation = img.replace(\".jpg\", \".xml\")\n",
    "    src_ann = os.path.join(annotation_dir, annotation)\n",
    "    dst_ann = os.path.join(copied_data_dir, annotation)\n",
    "    if os.path.exists(src_ann):\n",
    "        shutil.copy(src_ann, dst_ann)\n",
    "\n",
    "# Randomly select 3000 images from the copied dataset\n",
    "selected_images = random.sample(images, 3000)\n",
    "\n",
    "# Move selected images and their annotations to the selected_data_dir\n",
    "for img in selected_images:\n",
    "    # Move the image file\n",
    "    src_img = os.path.join(copied_data_dir, img)\n",
    "    dst_img = os.path.join(selected_data_dir, img)\n",
    "    shutil.move(src_img, dst_img)\n",
    "    \n",
    "    # Move the corresponding XML annotation file\n",
    "    annotation = img.replace(\".jpg\", \".xml\")\n",
    "    src_ann = os.path.join(copied_data_dir, annotation)\n",
    "    dst_ann = os.path.join(selected_data_dir, annotation)\n",
    "    if os.path.exists(src_ann):\n",
    "        shutil.move(src_ann, dst_ann)\n",
    "\n",
    "print(f\"Selected {len(selected_images)} images for the dataset.\")\n"
   ]
  },
  {
   "cell_type": "markdown",
   "metadata": {},
   "source": [
    "**Splitting Dataset**"
   ]
  },
  {
   "cell_type": "code",
   "execution_count": 3,
   "metadata": {
    "execution": {
     "iopub.execute_input": "2024-10-29T01:59:58.743392Z",
     "iopub.status.busy": "2024-10-29T01:59:58.742594Z",
     "iopub.status.idle": "2024-10-29T01:59:59.774099Z",
     "shell.execute_reply": "2024-10-29T01:59:59.773067Z",
     "shell.execute_reply.started": "2024-10-29T01:59:58.743341Z"
    }
   },
   "outputs": [
    {
     "name": "stdout",
     "output_type": "stream",
     "text": [
      "Total images: 3000\n",
      "Data split complete:\n",
      "- Training: 2100 images\n",
      "- Validation: 450 images\n",
      "- Testing: 450 images\n"
     ]
    }
   ],
   "source": [
    "# Define paths\n",
    "data_dir = ''\n",
    "train_dir = ''\n",
    "val_dir = ''\n",
    "test_dir = ''\n",
    "\n",
    "# Create directories for train, validation, and test sets\n",
    "os.makedirs(train_dir, exist_ok=True)\n",
    "os.makedirs(val_dir, exist_ok=True)\n",
    "os.makedirs(test_dir, exist_ok=True)\n",
    "\n",
    "# Load images from the dataset directory\n",
    "images = [f for f in os.listdir(data_dir) if f.endswith('.jpg')]\n",
    "random.shuffle(images)\n",
    "total_images = len(images)\n",
    "print(\"Total images:\", total_images)\n",
    "\n",
    "# Calculate split sizes\n",
    "train_size = int(total_images * 0.7)\n",
    "val_size = int(total_images * 0.15)\n",
    "test_size = total_images - train_size - val_size   \n",
    "\n",
    "# Split the data\n",
    "train_images = images[:train_size]\n",
    "val_images = images[train_size:train_size + val_size]\n",
    "test_images = images[train_size + val_size:]\n",
    "\n",
    "# Function to copy images and corresponding XML annotations\n",
    "def copy_files(file_list, source_dir, target_dir):\n",
    "    for img in file_list:\n",
    "        # Copy image file\n",
    "        shutil.copy(os.path.join(source_dir, img), os.path.join(target_dir, img))\n",
    "        \n",
    "        # Copy corresponding XML annotation file if it exists\n",
    "        annotation = img.replace('.jpg', '.xml')\n",
    "        annotation_path = os.path.join(source_dir, annotation)\n",
    "        if os.path.exists(annotation_path):\n",
    "            shutil.copy(annotation_path, os.path.join(target_dir, annotation))\n",
    "\n",
    "# Copy files for each split\n",
    "copy_files(train_images, data_dir, train_dir)\n",
    "copy_files(val_images, data_dir, val_dir)\n",
    "copy_files(test_images, data_dir, test_dir)\n",
    "\n",
    "print(f\"Data split complete:\\n- Training: {len(train_images)} images\\n- Validation: {len(val_images)} images\\n- Testing: {len(test_images)} images\")\n"
   ]
  }
 ],
 "metadata": {
  "kaggle": {
   "accelerator": "none",
   "dataSources": [
    {
     "datasetId": 1488516,
     "sourceId": 2459159,
     "sourceType": "datasetVersion"
    },
    {
     "isSourceIdPinned": true,
     "modelId": 149534,
     "modelInstanceId": 126565,
     "sourceId": 149110,
     "sourceType": "modelInstanceVersion"
    }
   ],
   "dockerImageVersionId": 30786,
   "isGpuEnabled": false,
   "isInternetEnabled": false,
   "language": "python",
   "sourceType": "notebook"
  },
  "kernelspec": {
   "display_name": "Python 3 (ipykernel)",
   "language": "python",
   "name": "python3"
  },
  "language_info": {
   "codemirror_mode": {
    "name": "ipython",
    "version": 3
   },
   "file_extension": ".py",
   "mimetype": "text/x-python",
   "name": "python",
   "nbconvert_exporter": "python",
   "pygments_lexer": "ipython3",
   "version": "3.12.5"
  }
 },
 "nbformat": 4,
 "nbformat_minor": 4
}
